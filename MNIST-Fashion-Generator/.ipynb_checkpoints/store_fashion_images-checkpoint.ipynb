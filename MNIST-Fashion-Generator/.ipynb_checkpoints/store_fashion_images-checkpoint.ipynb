{
 "cells": [
  {
   "cell_type": "code",
   "execution_count": 9,
   "metadata": {},
   "outputs": [],
   "source": [
    "from PIL import Image\n",
    "import numpy as np\n",
    "from keras.preprocessing.image import ImageDataGenerator\n",
    "from keras.datasets import fashion_mnist\n",
    "import os  \n",
    "\n",
    "(x_train, y_train), (_, _) = fashion_mnist.load_data()\n",
    "\n",
    "for i in range(10):\n",
    "    os.mkdir('dataset/trainingSet/'+str(i))\n",
    "    \n",
    "for index, y in np.ndenumerate(y_train):\n",
    "    im = Image.fromarray(x_train[index])\n",
    "    im.save('dataset/trainingSet/'+str(y)+'/fashion_'+str(index[0])+'.png')"
   ]
  }
 ],
 "metadata": {
  "kernelspec": {
   "display_name": "Python 3",
   "language": "python",
   "name": "python3"
  },
  "language_info": {
   "codemirror_mode": {
    "name": "ipython",
    "version": 3
   },
   "file_extension": ".py",
   "mimetype": "text/x-python",
   "name": "python",
   "nbconvert_exporter": "python",
   "pygments_lexer": "ipython3",
   "version": "3.5.6"
  }
 },
 "nbformat": 4,
 "nbformat_minor": 2
}
